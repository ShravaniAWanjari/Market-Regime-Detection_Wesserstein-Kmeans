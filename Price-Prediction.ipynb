{
  "cells": [
    {
      "cell_type": "code",
      "execution_count": 13,
      "metadata": {
        "id": "dwx3XlYI21Ko"
      },
      "outputs": [],
      "source": [
        "# Imports\n",
        "\n",
        "import yfinance as yf\n",
        "import numpy as np\n",
        "import pandas as pd\n",
        "import matplotlib.pyplot as plt\n",
        "from sklearn.preprocessing import MinMaxScaler\n",
        "from sklearn.metrics import mean_squared_error, mean_absolute_error, r2_score\n",
        "from tensorflow.keras.models import Sequential\n",
        "from tensorflow.keras.layers import Dense, LSTM, GRU\n",
        "from tensorflow.keras.callbacks import EarlyStopping\n"
      ]
    },
    {
      "cell_type": "code",
      "execution_count": 14,
      "metadata": {
        "colab": {
          "base_uri": "https://localhost:8080/"
        },
        "id": "KZ9w06Tq4Z4l",
        "outputId": "2b169d44-e023-4aa2-f3bf-113ba1d4b7e4"
      },
      "outputs": [
        {
          "name": "stderr",
          "output_type": "stream",
          "text": [
            "\r[*********************100%***********************]  1 of 1 completed\n"
          ]
        }
      ],
      "source": [
        "# select the stock from yfinance\n",
        "\n",
        "ticker = 'AAPL'\n",
        "data = yf.download(ticker, start='2015-01-01', end='2024-01-01')\n",
        "close_prices = data[['Close']]"
      ]
    },
    {
      "cell_type": "code",
      "execution_count": 15,
      "metadata": {
        "id": "PGdcIwGk3XU4"
      },
      "outputs": [],
      "source": [
        "# data splits and preprocessing\n",
        "\n",
        "scaler = MinMaxScaler(feature_range=(0, 1))\n",
        "prices_scaled = scaler.fit_transform(close_prices.values)\n",
        "\n",
        "def create_dataset(dataset, time_step=60):\n",
        "    X, y = [], []\n",
        "    for i in range(len(dataset) - time_step):\n",
        "        X.append(dataset[i:i + time_step, 0])\n",
        "        y.append(dataset[i + time_step, 0])\n",
        "    return np.array(X), np.array(y)\n",
        "\n",
        "time_step = 60\n",
        "X, y = create_dataset(prices_scaled, time_step)\n",
        "X = X.reshape(X.shape[0], X.shape[1], 1)\n",
        "\n",
        "train_size = int(len(X) * 0.8)\n",
        "x_train, x_val = X[:train_size], X[train_size:]\n",
        "y_train, y_val = y[:train_size], y[train_size:]"
      ]
    },
    {
      "cell_type": "code",
      "execution_count": null,
      "metadata": {
        "id": "EPvTYhK_3Lad"
      },
      "outputs": [],
      "source": [
        "# Show the raw stock data graph\n",
        "\n",
        "plt.figure(figsize=(12, 5))\n",
        "plt.plot(close_prices, label=f'{ticker} Closing Price')\n",
        "plt.title(f'{ticker} Closing Price History')\n",
        "plt.xlabel('Date')\n",
        "plt.ylabel('Price (USD)')\n",
        "plt.legend()\n",
        "plt.grid(True)\n",
        "plt.show()"
      ]
    },
    {
      "cell_type": "code",
      "execution_count": null,
      "metadata": {
        "colab": {
          "base_uri": "https://localhost:8080/",
          "height": 719
        },
        "collapsed": true,
        "id": "hPizDO6AJTji",
        "outputId": "698c1c83-972c-4ae6-c541-c6786ea453c0"
      },
      "outputs": [
        {
          "name": "stderr",
          "output_type": "stream",
          "text": [
            "/usr/local/lib/python3.11/dist-packages/keras/src/layers/rnn/rnn.py:200: UserWarning: Do not pass an `input_shape`/`input_dim` argument to a layer. When using Sequential models, prefer using an `Input(shape)` object as the first layer in the model instead.\n",
            "  super().__init__(**kwargs)\n"
          ]
        },
        {
          "data": {
            "text/html": [
              "<pre style=\"white-space:pre;overflow-x:auto;line-height:normal;font-family:Menlo,'DejaVu Sans Mono',consolas,'Courier New',monospace\"><span style=\"font-weight: bold\">Model: \"sequential_4\"</span>\n",
              "</pre>\n"
            ],
            "text/plain": [
              "\u001b[1mModel: \"sequential_4\"\u001b[0m\n"
            ]
          },
          "metadata": {},
          "output_type": "display_data"
        },
        {
          "data": {
            "text/html": [
              "<pre style=\"white-space:pre;overflow-x:auto;line-height:normal;font-family:Menlo,'DejaVu Sans Mono',consolas,'Courier New',monospace\">┏━━━━━━━━━━━━━━━━━━━━━━━━━━━━━━━━━━━━━━┳━━━━━━━━━━━━━━━━━━━━━━━━━━━━━┳━━━━━━━━━━━━━━━━━┓\n",
              "┃<span style=\"font-weight: bold\"> Layer (type)                         </span>┃<span style=\"font-weight: bold\"> Output Shape                </span>┃<span style=\"font-weight: bold\">         Param # </span>┃\n",
              "┡━━━━━━━━━━━━━━━━━━━━━━━━━━━━━━━━━━━━━━╇━━━━━━━━━━━━━━━━━━━━━━━━━━━━━╇━━━━━━━━━━━━━━━━━┩\n",
              "│ gru_4 (<span style=\"color: #0087ff; text-decoration-color: #0087ff\">GRU</span>)                          │ (<span style=\"color: #00d7ff; text-decoration-color: #00d7ff\">None</span>, <span style=\"color: #00af00; text-decoration-color: #00af00\">60</span>, <span style=\"color: #00af00; text-decoration-color: #00af00\">50</span>)              │           <span style=\"color: #00af00; text-decoration-color: #00af00\">7,950</span> │\n",
              "├──────────────────────────────────────┼─────────────────────────────┼─────────────────┤\n",
              "│ gru_5 (<span style=\"color: #0087ff; text-decoration-color: #0087ff\">GRU</span>)                          │ (<span style=\"color: #00d7ff; text-decoration-color: #00d7ff\">None</span>, <span style=\"color: #00af00; text-decoration-color: #00af00\">50</span>)                  │          <span style=\"color: #00af00; text-decoration-color: #00af00\">15,300</span> │\n",
              "├──────────────────────────────────────┼─────────────────────────────┼─────────────────┤\n",
              "│ dense_8 (<span style=\"color: #0087ff; text-decoration-color: #0087ff\">Dense</span>)                      │ (<span style=\"color: #00d7ff; text-decoration-color: #00d7ff\">None</span>, <span style=\"color: #00af00; text-decoration-color: #00af00\">25</span>)                  │           <span style=\"color: #00af00; text-decoration-color: #00af00\">1,275</span> │\n",
              "├──────────────────────────────────────┼─────────────────────────────┼─────────────────┤\n",
              "│ dense_9 (<span style=\"color: #0087ff; text-decoration-color: #0087ff\">Dense</span>)                      │ (<span style=\"color: #00d7ff; text-decoration-color: #00d7ff\">None</span>, <span style=\"color: #00af00; text-decoration-color: #00af00\">1</span>)                   │              <span style=\"color: #00af00; text-decoration-color: #00af00\">26</span> │\n",
              "└──────────────────────────────────────┴─────────────────────────────┴─────────────────┘\n",
              "</pre>\n"
            ],
            "text/plain": [
              "┏━━━━━━━━━━━━━━━━━━━━━━━━━━━━━━━━━━━━━━┳━━━━━━━━━━━━━━━━━━━━━━━━━━━━━┳━━━━━━━━━━━━━━━━━┓\n",
              "┃\u001b[1m \u001b[0m\u001b[1mLayer (type)                        \u001b[0m\u001b[1m \u001b[0m┃\u001b[1m \u001b[0m\u001b[1mOutput Shape               \u001b[0m\u001b[1m \u001b[0m┃\u001b[1m \u001b[0m\u001b[1m        Param #\u001b[0m\u001b[1m \u001b[0m┃\n",
              "┡━━━━━━━━━━━━━━━━━━━━━━━━━━━━━━━━━━━━━━╇━━━━━━━━━━━━━━━━━━━━━━━━━━━━━╇━━━━━━━━━━━━━━━━━┩\n",
              "│ gru_4 (\u001b[38;5;33mGRU\u001b[0m)                          │ (\u001b[38;5;45mNone\u001b[0m, \u001b[38;5;34m60\u001b[0m, \u001b[38;5;34m50\u001b[0m)              │           \u001b[38;5;34m7,950\u001b[0m │\n",
              "├──────────────────────────────────────┼─────────────────────────────┼─────────────────┤\n",
              "│ gru_5 (\u001b[38;5;33mGRU\u001b[0m)                          │ (\u001b[38;5;45mNone\u001b[0m, \u001b[38;5;34m50\u001b[0m)                  │          \u001b[38;5;34m15,300\u001b[0m │\n",
              "├──────────────────────────────────────┼─────────────────────────────┼─────────────────┤\n",
              "│ dense_8 (\u001b[38;5;33mDense\u001b[0m)                      │ (\u001b[38;5;45mNone\u001b[0m, \u001b[38;5;34m25\u001b[0m)                  │           \u001b[38;5;34m1,275\u001b[0m │\n",
              "├──────────────────────────────────────┼─────────────────────────────┼─────────────────┤\n",
              "│ dense_9 (\u001b[38;5;33mDense\u001b[0m)                      │ (\u001b[38;5;45mNone\u001b[0m, \u001b[38;5;34m1\u001b[0m)                   │              \u001b[38;5;34m26\u001b[0m │\n",
              "└──────────────────────────────────────┴─────────────────────────────┴─────────────────┘\n"
            ]
          },
          "metadata": {},
          "output_type": "display_data"
        },
        {
          "data": {
            "text/html": [
              "<pre style=\"white-space:pre;overflow-x:auto;line-height:normal;font-family:Menlo,'DejaVu Sans Mono',consolas,'Courier New',monospace\"><span style=\"font-weight: bold\"> Total params: </span><span style=\"color: #00af00; text-decoration-color: #00af00\">24,551</span> (95.90 KB)\n",
              "</pre>\n"
            ],
            "text/plain": [
              "\u001b[1m Total params: \u001b[0m\u001b[38;5;34m24,551\u001b[0m (95.90 KB)\n"
            ]
          },
          "metadata": {},
          "output_type": "display_data"
        },
        {
          "data": {
            "text/html": [
              "<pre style=\"white-space:pre;overflow-x:auto;line-height:normal;font-family:Menlo,'DejaVu Sans Mono',consolas,'Courier New',monospace\"><span style=\"font-weight: bold\"> Trainable params: </span><span style=\"color: #00af00; text-decoration-color: #00af00\">24,551</span> (95.90 KB)\n",
              "</pre>\n"
            ],
            "text/plain": [
              "\u001b[1m Trainable params: \u001b[0m\u001b[38;5;34m24,551\u001b[0m (95.90 KB)\n"
            ]
          },
          "metadata": {},
          "output_type": "display_data"
        },
        {
          "data": {
            "text/html": [
              "<pre style=\"white-space:pre;overflow-x:auto;line-height:normal;font-family:Menlo,'DejaVu Sans Mono',consolas,'Courier New',monospace\"><span style=\"font-weight: bold\"> Non-trainable params: </span><span style=\"color: #00af00; text-decoration-color: #00af00\">0</span> (0.00 B)\n",
              "</pre>\n"
            ],
            "text/plain": [
              "\u001b[1m Non-trainable params: \u001b[0m\u001b[38;5;34m0\u001b[0m (0.00 B)\n"
            ]
          },
          "metadata": {},
          "output_type": "display_data"
        },
        {
          "name": "stdout",
          "output_type": "stream",
          "text": [
            "Epoch 1/50\n",
            "\u001b[1m56/56\u001b[0m \u001b[32m━━━━━━━━━━━━━━━━━━━━\u001b[0m\u001b[37m\u001b[0m \u001b[1m11s\u001b[0m 108ms/step - loss: 0.0288 - val_loss: 5.9594e-04\n",
            "Epoch 2/50\n",
            "\u001b[1m56/56\u001b[0m \u001b[32m━━━━━━━━━━━━━━━━━━━━\u001b[0m\u001b[37m\u001b[0m \u001b[1m9s\u001b[0m 81ms/step - loss: 1.9239e-04 - val_loss: 4.8316e-04\n",
            "Epoch 3/50\n",
            "\u001b[1m56/56\u001b[0m \u001b[32m━━━━━━━━━━━━━━━━━━━━\u001b[0m\u001b[37m\u001b[0m \u001b[1m5s\u001b[0m 90ms/step - loss: 1.4052e-04 - val_loss: 4.9640e-04\n",
            "Epoch 4/50\n",
            "\u001b[1m56/56\u001b[0m \u001b[32m━━━━━━━━━━━━━━━━━━━━\u001b[0m\u001b[37m\u001b[0m \u001b[1m4s\u001b[0m 76ms/step - loss: 1.6818e-04 - val_loss: 4.3134e-04\n",
            "Epoch 5/50\n",
            "\u001b[1m56/56\u001b[0m \u001b[32m━━━━━━━━━━━━━━━━━━━━\u001b[0m\u001b[37m\u001b[0m \u001b[1m7s\u001b[0m 101ms/step - loss: 1.2844e-04 - val_loss: 4.1193e-04\n",
            "Epoch 6/50\n",
            "\u001b[1m56/56\u001b[0m \u001b[32m━━━━━━━━━━━━━━━━━━━━\u001b[0m\u001b[37m\u001b[0m \u001b[1m4s\u001b[0m 76ms/step - loss: 1.1814e-04 - val_loss: 3.8742e-04\n",
            "Epoch 7/50\n",
            "\u001b[1m56/56\u001b[0m \u001b[32m━━━━━━━━━━━━━━━━━━━━\u001b[0m\u001b[37m\u001b[0m \u001b[1m5s\u001b[0m 75ms/step - loss: 1.1451e-04 - val_loss: 3.6266e-04\n",
            "Epoch 8/50\n",
            "\u001b[1m56/56\u001b[0m \u001b[32m━━━━━━━━━━━━━━━━━━━━\u001b[0m\u001b[37m\u001b[0m \u001b[1m6s\u001b[0m 90ms/step - loss: 1.1385e-04 - val_loss: 4.4747e-04\n",
            "Epoch 9/50\n",
            "\u001b[1m56/56\u001b[0m \u001b[32m━━━━━━━━━━━━━━━━━━━━\u001b[0m\u001b[37m\u001b[0m \u001b[1m10s\u001b[0m 95ms/step - loss: 1.1376e-04 - val_loss: 3.3692e-04\n",
            "Epoch 10/50\n",
            "\u001b[1m56/56\u001b[0m \u001b[32m━━━━━━━━━━━━━━━━━━━━\u001b[0m\u001b[37m\u001b[0m \u001b[1m9s\u001b[0m 74ms/step - loss: 9.8572e-05 - val_loss: 4.3630e-04\n",
            "Epoch 11/50\n",
            "\u001b[1m19/56\u001b[0m \u001b[32m━━━━━━\u001b[0m\u001b[37m━━━━━━━━━━━━━━\u001b[0m \u001b[1m2s\u001b[0m 75ms/step - loss: 1.1410e-04"
          ]
        }
      ],
      "source": [
        "# GRU model for the price prediction\n",
        "\n",
        "gru_model = Sequential([\n",
        "    GRU(50, return_sequences=True, input_shape=(time_step, 1)),\n",
        "    GRU(50),\n",
        "    Dense(25),\n",
        "    Dense(1)\n",
        "])\n",
        "gru_model.compile(optimizer='adam', loss='mean_squared_error')\n",
        "gru_model.summary()\n",
        "\n",
        "early_stop = EarlyStopping(monitor='val_loss', patience=5, restore_best_weights=True)\n",
        "history = gru_model.fit(\n",
        "    x_train, y_train,\n",
        "    validation_data=(x_val, y_val),\n",
        "    epochs=50,\n",
        "    batch_size=32,\n",
        "    callbacks=[early_stop],\n",
        "    verbose=1\n",
        ")\n",
        "\n"
      ]
    },
    {
      "cell_type": "code",
      "execution_count": null,
      "metadata": {
        "id": "y-VmgkqP2hFV"
      },
      "outputs": [],
      "source": [
        "# Show the GRU graph\n",
        "\n",
        "gru_x_val=x_val\n",
        "gru_y_val=y_val\n",
        "gru_y_pred_scaled = gru_model.predict(gru_x_val)\n",
        "gru_y_pred = scaler.inverse_transform(gru_y_pred_scaled)\n",
        "y_actual = scaler.inverse_transform(y_val.reshape(-1, 1))\n",
        "\n",
        "plt.figure(figsize=(12, 6))\n",
        "plt.plot(y_actual, label='Actual Price')\n",
        "plt.plot(gru_y_pred, label='Predicted Price')\n",
        "plt.title(f'{ticker} Price Prediction vs Actual (Validation Set) - GRU')\n",
        "plt.xlabel('Time')\n",
        "plt.ylabel('Price (USD)')\n",
        "plt.legend()\n",
        "plt.grid(True)\n",
        "plt.show()"
      ]
    },
    {
      "cell_type": "code",
      "execution_count": null,
      "metadata": {
        "id": "X6HfKRV35BXg"
      },
      "outputs": [],
      "source": [
        "# Error metrics for GRU\n",
        "\n",
        "gru_rmse = np.sqrt(mean_squared_error(y_actual, gru_y_pred))\n",
        "gru_mae = mean_absolute_error(y_actual, gru_y_pred)\n",
        "gru_r2 = r2_score(y_actual, gru_y_pred)\n",
        "print(f'Validation RMSE: {gru_rmse:.4f} USD')\n",
        "print(f'Validation MAE: {gru_mae:.4f} USD')\n",
        "print(f'Validation R²: {gru_r2:.4f}')"
      ]
    },
    {
      "cell_type": "code",
      "execution_count": null,
      "metadata": {
        "id": "t9ygW68OH2IW"
      },
      "outputs": [],
      "source": [
        "# LSTM for the same price prediction thiing\n",
        "\n",
        "lstm_model = Sequential([\n",
        "    LSTM(50, return_sequences=True, input_shape=(time_step, 1)),\n",
        "    LSTM(50),\n",
        "    Dense(25),\n",
        "    Dense(1)\n",
        "])\n",
        "lstm_model.compile(optimizer='adam', loss='mean_squared_error')\n",
        "lstm_model.summary()\n",
        "\n",
        "early_stop = EarlyStopping(monitor='val_loss', patience=5, restore_best_weights=True)\n",
        "history = lstm_model.fit(\n",
        "    x_train, y_train,\n",
        "    validation_data=(x_val, y_val),\n",
        "    epochs=50,\n",
        "    batch_size=32,\n",
        "    callbacks=[early_stop],\n",
        "    verbose=1\n",
        ")"
      ]
    },
    {
      "cell_type": "code",
      "execution_count": null,
      "metadata": {
        "id": "8ZYpX5Oa13iw"
      },
      "outputs": [],
      "source": [
        "# Show the LSTM graph\n",
        "\n",
        "lstm_x_val=x_val\n",
        "lstm_y_val=y_val\n",
        "lstm_y_pred_scaled = lstm_model.predict(lstm_x_val)\n",
        "lstm_y_pred = scaler.inverse_transform(lstm_y_pred_scaled)\n",
        "y_actual = scaler.inverse_transform(y_val.reshape(-1, 1))\n",
        "\n",
        "\n",
        "plt.figure(figsize=(12, 6))\n",
        "plt.plot(y_actual, label='Actual Price')\n",
        "plt.plot(lstm_y_pred, label='Predicted Price')\n",
        "plt.title(f'{ticker} Price Prediction vs Actual (Validation Set)')\n",
        "plt.xlabel('Time')\n",
        "plt.ylabel('Price (USD)')\n",
        "plt.legend()\n",
        "plt.grid(True)\n",
        "plt.show()\n"
      ]
    },
    {
      "cell_type": "code",
      "execution_count": null,
      "metadata": {
        "id": "XthNciEG5paJ"
      },
      "outputs": [],
      "source": [
        "# Error metrics for LSTM\n",
        "\n",
        "lstm_rmse = np.sqrt(mean_squared_error(y_actual, lstm_y_pred))\n",
        "lstm_mae = mean_absolute_error(y_actual, lstm_y_pred)\n",
        "lstm_r2 = r2_score(y_actual, lstm_y_pred)\n",
        "print(f'Validation RMSE: {lstm_rmse:.4f} USD')\n",
        "print(f'Validation MAE: {lstm_mae:.4f} USD')\n",
        "print(f'Validation R²: {lstm_r2:.4f}')"
      ]
    },
    {
      "cell_type": "code",
      "execution_count": null,
      "metadata": {
        "id": "G9RWdN-w5Nab"
      },
      "outputs": [],
      "source": [
        "# Comparision plot between gru and lstm\n",
        "\n",
        "y_lstm_pred = scaler.inverse_transform(lstm_model.predict(x_val))\n",
        "y_gru_pred = scaler.inverse_transform(gru_model.predict(x_val))\n",
        "y_actual = scaler.inverse_transform(y_val.reshape(-1, 1))\n",
        "\n",
        "plt.figure(figsize=(14, 6))\n",
        "plt.plot(y_actual, label='Actual Price', linewidth=2)\n",
        "plt.plot(y_lstm_pred, label='LSTM Prediction')\n",
        "plt.plot(y_gru_pred, label='GRU Prediction')\n",
        "plt.title('Stock Price Prediction: LSTM vs GRU')\n",
        "plt.xlabel('Time')\n",
        "plt.ylabel('Price (USD)')\n",
        "plt.legend()\n",
        "plt.grid(True)\n",
        "plt.show()"
      ]
    },
    {
      "cell_type": "code",
      "execution_count": null,
      "metadata": {
        "id": "HszTSMU6QIdq"
      },
      "outputs": [],
      "source": [
        "# comparision of metrics\n",
        "lstm_rmse = np.sqrt(mean_squared_error(y_actual, lstm_y_pred))\n",
        "gru_rmse = np.sqrt(mean_squared_error(y_actual, lstm_y_pred))\n",
        "\n",
        "lstm_mae = mean_absolute_error(y_actual, lstm_y_pred)\n",
        "gru_mae = mean_absolute_error(y_actual, gru_y_pred)\n",
        "\n",
        "lstm_r2 = r2_score(y_actual, lstm_y_pred)\n",
        "gru_r2 = r2_score(y_actual, gru_y_pred)\n",
        "\n",
        "# Display results\n",
        "print(f\"{'Model':<10} {'RMSE':>10} {'MAE':>10} {'R² Score':>12}\")\n",
        "print(f\"{'-'*40}\")\n",
        "print(f\"{'LSTM':<10} {lstm_rmse:10.4f} {lstm_mae:10.4f} {lstm_r2:12.4f}\")\n",
        "print(f\"{'GRU':<10} {gru_rmse:10.4f} {gru_mae:10.4f} {gru_r2:12.4f}\")\n",
        "\n",
        "# Compare\n",
        "print(\"\\n🔍 Performance Comparison:\")\n",
        "if lstm_rmse < gru_rmse:\n",
        "    print(\"✅ LSTM has lower RMSE.\")\n",
        "else:\n",
        "    print(\"✅ GRU has lower RMSE.\")\n",
        "\n",
        "if lstm_mae < gru_mae:\n",
        "    print(\"✅ LSTM has lower MAE.\")\n",
        "else:\n",
        "    print(\"✅ GRU has lower MAE.\")\n",
        "\n",
        "if lstm_r2 > gru_r2:\n",
        "    print(\"✅ LSTM has higher R² (better explained variance).\")\n",
        "else:\n",
        "    print(\"✅ GRU has higher R² (better explained variance).\")\n",
        "\n"
      ]
    },
    {
      "cell_type": "code",
      "execution_count": null,
      "metadata": {
        "id": "r6nPdhili4LA"
      },
      "outputs": [],
      "source": [
        "# for the csv\n",
        "results_df = pd.DataFrame({\n",
        "    'Date': close_prices.index[-len(y_actual):],  # align with validation window\n",
        "    'Actual_Price': y_actual.flatten(),\n",
        "    'LSTM_Predicted': lstm_y_pred.flatten(),\n",
        "    'GRU_Predicted': gru_y_pred.flatten()\n",
        "})\n",
        "\n",
        "# Ensure 'Date' is the first column\n",
        "results_df.set_index('Date', inplace=True)\n",
        "\n",
        "# Display first few rows\n",
        "print(results_df.head())\n",
        "\n",
        "# Save to CSV\n",
        "results_df.to_csv(f'{ticker}_lstm_gru_predictions.csv')\n",
        "print(f\"\\n✅ Saved predictions to '{ticker}_lstm_gru_predictions.csv'\")\n"
      ]
    }
  ],
  "metadata": {
    "colab": {
      "provenance": []
    },
    "kernelspec": {
      "display_name": "Python 3",
      "name": "python3"
    },
    "language_info": {
      "name": "python"
    }
  },
  "nbformat": 4,
  "nbformat_minor": 0
}
